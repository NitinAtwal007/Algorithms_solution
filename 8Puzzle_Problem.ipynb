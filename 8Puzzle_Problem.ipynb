{
 "cells": [
  {
   "cell_type": "code",
   "execution_count": 1,
   "id": "29d76e53",
   "metadata": {},
   "outputs": [
    {
     "name": "stdout",
     "output_type": "stream",
     "text": [
      "Solution found!\n",
      "Number of moves: 14\n",
      "Moves to reach the goal state:\n",
      "(1, 1, 1, 2)\n",
      "(1, 2, 2, 2)\n",
      "(2, 2, 2, 1)\n",
      "(2, 1, 2, 0)\n",
      "(2, 0, 1, 0)\n",
      "(1, 0, 1, 1)\n",
      "(1, 1, 2, 1)\n",
      "(2, 1, 2, 2)\n",
      "(2, 2, 1, 2)\n",
      "(1, 2, 1, 1)\n",
      "(1, 1, 1, 0)\n",
      "(1, 0, 2, 0)\n",
      "(2, 0, 2, 1)\n",
      "(2, 1, 2, 2)\n"
     ]
    }
   ],
   "source": [
    "from collections import deque\n",
    "\n",
    "# Function to check if a given state is the goal state\n",
    "def is_goal_state(state):\n",
    "    goal_state = [[1, 2, 3], [4, 5, 6], [7, 8, 0]]\n",
    "    return state == goal_state\n",
    "\n",
    "# Function to find the possible moves from a given state\n",
    "def find_moves(state):\n",
    "    moves = []\n",
    "    for i in range(3):\n",
    "        for j in range(3):\n",
    "            if state[i][j] == 0:\n",
    "                if i > 0:\n",
    "                    moves.append((i, j, i - 1, j))  # Move blank tile up\n",
    "                if i < 2:\n",
    "                    moves.append((i, j, i + 1, j))  # Move blank tile down\n",
    "                if j > 0:\n",
    "                    moves.append((i, j, i, j - 1))  # Move blank tile left\n",
    "                if j < 2:\n",
    "                    moves.append((i, j, i, j + 1))  # Move blank tile right\n",
    "    return moves\n",
    "\n",
    "# Function to perform BFS to solve the 8-puzzle problem\n",
    "def solve_8_puzzle(initial_state):\n",
    "    queue = deque([(initial_state, [])])  # Queue for BFS, each item contains (state, path)\n",
    "    visited = set()  # Set to keep track of visited states\n",
    "    \n",
    "    while queue:\n",
    "        state, path = queue.popleft()\n",
    "        if is_goal_state(state):\n",
    "            return path\n",
    "        \n",
    "        visited.add(tuple(map(tuple, state)))  # Convert state to tuple for hashable\n",
    "        \n",
    "        for move in find_moves(state):\n",
    "            new_state = [row[:] for row in state]  # Create a copy of the current state\n",
    "            i, j, new_i, new_j = move\n",
    "            new_state[i][j], new_state[new_i][new_j] = new_state[new_i][new_j], new_state[i][j]  # Apply move\n",
    "            \n",
    "            if tuple(map(tuple, new_state)) not in visited:  # Check if the new state is not visited\n",
    "                queue.append((new_state, path + [move]))  # Add the new state and path to the queue\n",
    "\n",
    "    return None  # No solution found\n",
    "\n",
    "# Example usage:\n",
    "initial_state = [[1, 2, 3], [4, 0, 5], [6, 7, 8]]\n",
    "solution_path = solve_8_puzzle(initial_state)\n",
    "\n",
    "if solution_path:\n",
    "    print(\"Solution found!\")\n",
    "    print(\"Number of moves:\", len(solution_path))\n",
    "    print(\"Moves to reach the goal state:\")\n",
    "    for move in solution_path:\n",
    "        print(move)\n",
    "else:\n",
    "    print(\"No solution found.\")\n"
   ]
  },
  {
   "cell_type": "code",
   "execution_count": null,
   "id": "66a39a33",
   "metadata": {},
   "outputs": [],
   "source": []
  }
 ],
 "metadata": {
  "kernelspec": {
   "display_name": "Python 3 (ipykernel)",
   "language": "python",
   "name": "python3"
  },
  "language_info": {
   "codemirror_mode": {
    "name": "ipython",
    "version": 3
   },
   "file_extension": ".py",
   "mimetype": "text/x-python",
   "name": "python",
   "nbconvert_exporter": "python",
   "pygments_lexer": "ipython3",
   "version": "3.11.3"
  }
 },
 "nbformat": 4,
 "nbformat_minor": 5
}
