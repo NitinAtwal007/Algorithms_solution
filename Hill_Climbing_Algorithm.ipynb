{
 "cells": [
  {
   "cell_type": "code",
   "execution_count": 8,
   "id": "c0197295",
   "metadata": {},
   "outputs": [
    {
     "ename": "NameError",
     "evalue": "name 'tsp' is not defined",
     "output_type": "error",
     "traceback": [
      "\u001b[1;31m---------------------------------------------------------------------------\u001b[0m",
      "\u001b[1;31mNameError\u001b[0m                                 Traceback (most recent call last)",
      "Cell \u001b[1;32mIn[8], line 3\u001b[0m\n\u001b[0;32m      1\u001b[0m \u001b[38;5;66;03m#hill climbing algorithm  in AI \u001b[39;00m\n\u001b[0;32m      2\u001b[0m \u001b[38;5;28;01mimport\u001b[39;00m \u001b[38;5;21;01mrandom\u001b[39;00m\n\u001b[1;32m----> 3\u001b[0m cities\u001b[38;5;241m=\u001b[39m\u001b[38;5;28mlist\u001b[39m(\u001b[38;5;28mrange\u001b[39m(\u001b[38;5;28mlen\u001b[39m(\u001b[43mtsp\u001b[49m)))\n\u001b[0;32m      4\u001b[0m solution\u001b[38;5;241m=\u001b[39m[]\n\u001b[0;32m      5\u001b[0m \u001b[38;5;28;01mfor\u001b[39;00m i \u001b[38;5;129;01min\u001b[39;00m \u001b[38;5;28mrange\u001b[39m(\u001b[38;5;28mlen\u001b[39m(tsp)):\n",
      "\u001b[1;31mNameError\u001b[0m: name 'tsp' is not defined"
     ]
    }
   ],
   "source": []
  },
  {
   "cell_type": "code",
   "execution_count": 18,
   "id": "377f7a06",
   "metadata": {},
   "outputs": [
    {
     "name": "stdout",
     "output_type": "stream",
     "text": [
      "Shortest Path: A->D->C->B->E->G->I->J\n",
      "Total Cost: 12\n"
     ]
    }
   ],
   "source": [
    "#Hill climbing algorithm in AI\n",
    "\n",
    "import random\n",
    "\n",
    "graph = {'A': {'B': 2, 'C': 4, 'D': 1}, 'B': {'A': 2, 'C': 3, 'E': 2}, 'C': {'A': 4, 'B': 3, 'D': 2, 'E': 5},\n",
    "         'D': {'A': 1, 'C': 2, 'E': 3, 'F': 6}, 'E': {'B': 2, 'C': 5, 'D': 3, 'F': 2, 'G': 1},\n",
    "         'F': {'D': 6, 'E': 2, 'G': 3, 'H': 4}, 'G': {'E': 1, 'F': 3, 'I': 2}, 'H': {'F': 4, 'I': 3, 'J': 5},\n",
    "         'I': {'G': 2, 'H': 3, 'J': 1}, 'J': {'H': 5, 'I': 1}}\n",
    "start_node = 'A'\n",
    "goal_node = 'J'\n",
    "\n",
    "\n",
    "def hill_climbing(start, goal):\n",
    "    current_node = start\n",
    "    current_path = [current_node]\n",
    "    current_cost = 0\n",
    "\n",
    "    while current_node != goal:\n",
    "        neighbors = list(graph[current_node].keys())\n",
    "        random.shuffle(neighbors)  # Shuffle neighbors to introduce randomness\n",
    "        found_better_path = False\n",
    "        min_cost = float('inf')\n",
    "        min_neighbor = None\n",
    "\n",
    "        for neighbor in neighbors:\n",
    "            if neighbor not in current_path:\n",
    "                new_cost = current_cost + graph[current_node][neighbor]\n",
    "                if new_cost < min_cost:\n",
    "                    min_cost = new_cost\n",
    "                    min_neighbor = neighbor\n",
    "\n",
    "        if min_neighbor is not None:\n",
    "            current_path.append(min_neighbor)\n",
    "            current_cost = min_cost\n",
    "            current_node = min_neighbor\n",
    "            found_better_path = True\n",
    "        else:\n",
    "            if len(current_path) > 1:\n",
    "                current_path.pop()\n",
    "                current_node = current_path[-1]\n",
    "            else:\n",
    "                print(\"No path found.\")\n",
    "                return current_path, current_cost\n",
    "\n",
    "    return current_path, current_cost\n",
    "\n",
    "\n",
    "path, cost = hill_climbing(start_node, goal_node)\n",
    "\n",
    "if path:\n",
    "    print(\"Shortest Path:\", \"->\".join(path))\n",
    "    print(\"Total Cost:\", cost)\n"
   ]
  },
  {
   "cell_type": "code",
   "execution_count": null,
   "id": "b1329409",
   "metadata": {},
   "outputs": [],
   "source": []
  },
  {
   "cell_type": "code",
   "execution_count": null,
   "id": "93ec5846",
   "metadata": {},
   "outputs": [],
   "source": [
    "    "
   ]
  }
 ],
 "metadata": {
  "kernelspec": {
   "display_name": "Python 3 (ipykernel)",
   "language": "python",
   "name": "python3"
  },
  "language_info": {
   "codemirror_mode": {
    "name": "ipython",
    "version": 3
   },
   "file_extension": ".py",
   "mimetype": "text/x-python",
   "name": "python",
   "nbconvert_exporter": "python",
   "pygments_lexer": "ipython3",
   "version": "3.11.3"
  }
 },
 "nbformat": 4,
 "nbformat_minor": 5
}
