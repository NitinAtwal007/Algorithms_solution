{
 "cells": [
  {
   "cell_type": "code",
   "execution_count": 2,
   "id": "bb4fed58",
   "metadata": {},
   "outputs": [
    {
     "name": "stdout",
     "output_type": "stream",
     "text": [
      "DFS traversal starting from node 2: [2, 0, 1, 3]\n"
     ]
    }
   ],
   "source": [
    "from collections import defaultdict\n",
    "\n",
    "class Graph:\n",
    "    def __init__(self):\n",
    "        self.graph = defaultdict(list)\n",
    "\n",
    "    def add_edge(self, u, v):\n",
    "        self.graph[u].append(v)\n",
    "\n",
    "    def dfs_util(self, node, visited, traversal):\n",
    "        visited.add(node)\n",
    "        traversal.append(node)\n",
    "\n",
    "        for neighbor in self.graph[node]:\n",
    "            if neighbor not in visited:\n",
    "                self.dfs_util(neighbor, visited, traversal)\n",
    "\n",
    "    def dfs(self, start):\n",
    "        visited = set()\n",
    "        traversal = []\n",
    "        self.dfs_util(start, visited, traversal)\n",
    "        return traversal\n",
    "\n",
    "# Example usage:\n",
    "# Create a graph\n",
    "g = Graph()\n",
    "g.add_edge(0, 1)\n",
    "g.add_edge(0, 2)\n",
    "g.add_edge(1, 2)\n",
    "g.add_edge(2, 0)\n",
    "g.add_edge(2, 3)\n",
    "g.add_edge(3, 3)\n",
    "\n",
    "# Perform DFS traversal starting from node 2\n",
    "print(\"DFS traversal starting from node 2:\", g.dfs(2))\n"
   ]
  },
  {
   "cell_type": "code",
   "execution_count": null,
   "id": "ba187f43",
   "metadata": {},
   "outputs": [],
   "source": []
  }
 ],
 "metadata": {
  "kernelspec": {
   "display_name": "Python 3 (ipykernel)",
   "language": "python",
   "name": "python3"
  },
  "language_info": {
   "codemirror_mode": {
    "name": "ipython",
    "version": 3
   },
   "file_extension": ".py",
   "mimetype": "text/x-python",
   "name": "python",
   "nbconvert_exporter": "python",
   "pygments_lexer": "ipython3",
   "version": "3.11.3"
  }
 },
 "nbformat": 4,
 "nbformat_minor": 5
}
